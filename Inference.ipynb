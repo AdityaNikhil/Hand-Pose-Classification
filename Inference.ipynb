{
 "cells": [
  {
   "cell_type": "markdown",
   "metadata": {},
   "source": [
    "# TODOs\n",
    "\n",
    "        1) Make a cmd argument parser to parse the following arguments,\n",
    "            1.1) model path\n",
    "            1.2) video or img or real-time\n",
    "            1.3) Default :- protoFile, WeightsFile, model(Until more models are created)\n",
    "             \n",
    "           "
   ]
  },
  {
   "cell_type": "code",
   "execution_count": 1,
   "metadata": {},
   "outputs": [
    {
     "name": "stdout",
     "output_type": "stream",
     "text": [
      "Model: \"sequential_4\"\n",
      "_________________________________________________________________\n",
      "Layer (type)                 Output Shape              Param #   \n",
      "=================================================================\n",
      "dense_28 (Dense)             (None, 500)               22500     \n",
      "_________________________________________________________________\n",
      "dense_29 (Dense)             (None, 200)               100200    \n",
      "_________________________________________________________________\n",
      "dense_30 (Dense)             (None, 150)               30150     \n",
      "_________________________________________________________________\n",
      "dense_31 (Dense)             (None, 150)               22650     \n",
      "_________________________________________________________________\n",
      "dense_32 (Dense)             (None, 50)                7550      \n",
      "_________________________________________________________________\n",
      "dense_33 (Dense)             (None, 2)                 102       \n",
      "=================================================================\n",
      "Total params: 183,152\n",
      "Trainable params: 183,152\n",
      "Non-trainable params: 0\n",
      "_________________________________________________________________\n"
     ]
    }
   ],
   "source": [
    "from tensorflow.keras.models import load_model\n",
    "\n",
    "model_1 = load_model('D:\\Project_Ideas\\TeachableMachine_Local\\handPose\\hand\\Kpts_model.h5')\n",
    "model_1.summary()"
   ]
  },
  {
   "cell_type": "code",
   "execution_count": 26,
   "metadata": {},
   "outputs": [],
   "source": [
    "import nbimporter \n",
    "from Extract_Kpts import extract_kpts\n",
    "protoFile = \"hand/pose_deploy.prototxt\"\n",
    "weightsFile = \"hand/pose_iter_102000.caffemodel\"\n",
    "path = 'D:\\Project_Ideas\\TeachableMachine_Local\\handPose\\hand'\n",
    "\n",
    "points, _ = extract_kpts.dataset(protoFile,weightsFile,path)\n"
   ]
  },
  {
   "cell_type": "code",
   "execution_count": 27,
   "metadata": {},
   "outputs": [],
   "source": [
    "import pandas as pd\n",
    "\n",
    "\n",
    "points = pd.DataFrame(points, columns=['X','Y'])\n"
   ]
  },
  {
   "cell_type": "code",
   "execution_count": 28,
   "metadata": {},
   "outputs": [
    {
     "data": {
      "text/html": [
       "<div>\n",
       "<style scoped>\n",
       "    .dataframe tbody tr th:only-of-type {\n",
       "        vertical-align: middle;\n",
       "    }\n",
       "\n",
       "    .dataframe tbody tr th {\n",
       "        vertical-align: top;\n",
       "    }\n",
       "\n",
       "    .dataframe thead th {\n",
       "        text-align: right;\n",
       "    }\n",
       "</style>\n",
       "<table border=\"1\" class=\"dataframe\">\n",
       "  <thead>\n",
       "    <tr style=\"text-align: right;\">\n",
       "      <th></th>\n",
       "      <th>0</th>\n",
       "      <th>1</th>\n",
       "      <th>2</th>\n",
       "      <th>3</th>\n",
       "      <th>4</th>\n",
       "      <th>5</th>\n",
       "      <th>6</th>\n",
       "      <th>7</th>\n",
       "      <th>8</th>\n",
       "      <th>9</th>\n",
       "      <th>...</th>\n",
       "      <th>34</th>\n",
       "      <th>35</th>\n",
       "      <th>36</th>\n",
       "      <th>37</th>\n",
       "      <th>38</th>\n",
       "      <th>39</th>\n",
       "      <th>40</th>\n",
       "      <th>41</th>\n",
       "      <th>42</th>\n",
       "      <th>43</th>\n",
       "    </tr>\n",
       "  </thead>\n",
       "  <tbody>\n",
       "    <tr>\n",
       "      <th>0</th>\n",
       "      <td>377</td>\n",
       "      <td>190</td>\n",
       "      <td>359</td>\n",
       "      <td>226</td>\n",
       "      <td>332</td>\n",
       "      <td>261</td>\n",
       "      <td>305</td>\n",
       "      <td>279</td>\n",
       "      <td>297</td>\n",
       "      <td>314</td>\n",
       "      <td>...</td>\n",
       "      <td>297</td>\n",
       "      <td>155</td>\n",
       "      <td>270</td>\n",
       "      <td>155</td>\n",
       "      <td>270</td>\n",
       "      <td>155</td>\n",
       "      <td>270</td>\n",
       "      <td>164</td>\n",
       "      <td>252</td>\n",
       "      <td>191</td>\n",
       "    </tr>\n",
       "  </tbody>\n",
       "</table>\n",
       "<p>1 rows × 44 columns</p>\n",
       "</div>"
      ],
      "text/plain": [
       "    0    1    2    3    4    5    6    7    8    9   ...   34   35   36   37  \\\n",
       "0  377  190  359  226  332  261  305  279  297  314  ...  297  155  270  155   \n",
       "\n",
       "    38   39   40   41   42   43  \n",
       "0  270  155  270  164  252  191  \n",
       "\n",
       "[1 rows x 44 columns]"
      ]
     },
     "execution_count": 28,
     "metadata": {},
     "output_type": "execute_result"
    }
   ],
   "source": [
    "# data = pd.read_csv('KPts_dataset_2.csv')\n",
    "\n",
    "df = pd.DataFrame(points)\n",
    "a = df[['X','Y']].to_numpy().reshape(-1, 44)\n",
    "       \n",
    "df1 = pd.DataFrame(a)\n",
    "# df1['class'] = df['class'].to_numpy().reshape(a.shape[0], -1)[:, 0]\n",
    "\n",
    "# data_2 = pd.DataFrame(df1)\n",
    "df1"
   ]
  },
  {
   "cell_type": "code",
   "execution_count": 29,
   "metadata": {},
   "outputs": [
    {
     "data": {
      "text/plain": [
       "array([0], dtype=int64)"
      ]
     },
     "execution_count": 29,
     "metadata": {},
     "output_type": "execute_result"
    }
   ],
   "source": [
    "import numpy as np\n",
    "\n",
    "np.argmax(model_1.predict(df1),axis=1)"
   ]
  },
  {
   "cell_type": "code",
   "execution_count": null,
   "metadata": {},
   "outputs": [],
   "source": []
  }
 ],
 "metadata": {
  "kernelspec": {
   "display_name": "Python 3",
   "language": "python",
   "name": "python3"
  },
  "language_info": {
   "codemirror_mode": {
    "name": "ipython",
    "version": 3
   },
   "file_extension": ".py",
   "mimetype": "text/x-python",
   "name": "python",
   "nbconvert_exporter": "python",
   "pygments_lexer": "ipython3",
   "version": "3.6.8"
  }
 },
 "nbformat": 4,
 "nbformat_minor": 4
}
