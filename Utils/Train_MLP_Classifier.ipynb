{
 "cells": [
  {
   "cell_type": "code",
   "execution_count": 68,
   "metadata": {},
   "outputs": [],
   "source": [
    "import pandas as pd\n",
    "import numpy as np\n",
    "\n",
    "data = pd.read_csv('final_dataset_sample.csv')\n",
    "data = data.sample(frac=1) "
   ]
  },
  {
   "cell_type": "code",
   "execution_count": 70,
   "metadata": {},
   "outputs": [],
   "source": [
    "features = data.drop(['class'],axis=1)\n",
    "target = data['class']"
   ]
  },
  {
   "cell_type": "code",
   "execution_count": 72,
   "metadata": {},
   "outputs": [
    {
     "name": "stdout",
     "output_type": "stream",
     "text": [
      "Shape of features :  (3322, 44)\n",
      "Shape of target :  (3322,)\n"
     ]
    }
   ],
   "source": [
    "print('Shape of features : ', features.shape)\n",
    "print('Shape of target : ', target.shape)"
   ]
  },
  {
   "cell_type": "code",
   "execution_count": 74,
   "metadata": {},
   "outputs": [],
   "source": [
    "from tensorflow.keras.utils import to_categorical\n",
    "\n",
    "target_OH = to_categorical(target, 2)"
   ]
  },
  {
   "cell_type": "code",
   "execution_count": 75,
   "metadata": {},
   "outputs": [
    {
     "name": "stdout",
     "output_type": "stream",
     "text": [
      "Model: \"sequential_4\"\n",
      "_________________________________________________________________\n",
      "Layer (type)                 Output Shape              Param #   \n",
      "=================================================================\n",
      "dense_28 (Dense)             (None, 500)               22500     \n",
      "_________________________________________________________________\n",
      "dense_29 (Dense)             (None, 200)               100200    \n",
      "_________________________________________________________________\n",
      "dense_30 (Dense)             (None, 150)               30150     \n",
      "_________________________________________________________________\n",
      "dense_31 (Dense)             (None, 150)               22650     \n",
      "_________________________________________________________________\n",
      "dense_32 (Dense)             (None, 50)                7550      \n",
      "_________________________________________________________________\n",
      "dense_33 (Dense)             (None, 2)                 102       \n",
      "=================================================================\n",
      "Total params: 183,152\n",
      "Trainable params: 183,152\n",
      "Non-trainable params: 0\n",
      "_________________________________________________________________\n"
     ]
    }
   ],
   "source": [
    "from tensorflow.keras.layers import Dense, Flatten\n",
    "from tensorflow.keras.models import Sequential\n",
    "\n",
    "model = Sequential()\n",
    "model.add(Dense(input_shape=(44,), units=500, activation='relu'))\n",
    "model.add(Dense(units=200, activation='relu'))\n",
    "model.add(Dense(units=150, activation='relu'))\n",
    "model.add(Dense(units=150, activation='relu'))\n",
    "model.add(Dense(units=50, activation='relu'))\n",
    "model.add(Dense(units=2, activation='softmax'))\n",
    "\n",
    "model.summary()"
   ]
  },
  {
   "cell_type": "code",
   "execution_count": 76,
   "metadata": {},
   "outputs": [],
   "source": [
    "from sklearn.preprocessing import MinMaxScaler, StandardScaler\n",
    "\n",
    "scaler = MinMaxScaler()\n",
    "features_norm = scaler.fit_transform(features)"
   ]
  },
  {
   "cell_type": "code",
   "execution_count": 77,
   "metadata": {},
   "outputs": [],
   "source": [
    "from sklearn.model_selection import train_test_split\n",
    "\n",
    "xtrain, xtest, ytrain, ytest = train_test_split(features_norm, target_OH, test_size=0.2)"
   ]
  },
  {
   "cell_type": "code",
   "execution_count": 81,
   "metadata": {
    "scrolled": false
   },
   "outputs": [
    {
     "name": "stdout",
     "output_type": "stream",
     "text": [
      "Epoch 1/10\n",
      "23/23 - 1s - loss: 0.1543 - accuracy: 0.9390 - val_loss: 0.1354 - val_accuracy: 0.9444\n",
      "Epoch 2/10\n",
      "23/23 - 0s - loss: 0.0938 - accuracy: 0.9578 - val_loss: 0.1131 - val_accuracy: 0.9579\n",
      "Epoch 3/10\n",
      "23/23 - 0s - loss: 0.0688 - accuracy: 0.9721 - val_loss: 0.1754 - val_accuracy: 0.9489\n",
      "Epoch 4/10\n",
      "23/23 - 0s - loss: 0.0774 - accuracy: 0.9673 - val_loss: 0.1110 - val_accuracy: 0.9579\n",
      "Epoch 5/10\n",
      "23/23 - 0s - loss: 0.0581 - accuracy: 0.9767 - val_loss: 0.0875 - val_accuracy: 0.9594\n",
      "Epoch 6/10\n",
      "23/23 - 0s - loss: 0.0558 - accuracy: 0.9770 - val_loss: 0.0825 - val_accuracy: 0.9639\n",
      "Epoch 7/10\n",
      "23/23 - 0s - loss: 0.0600 - accuracy: 0.9740 - val_loss: 0.1380 - val_accuracy: 0.9549\n",
      "Epoch 8/10\n",
      "23/23 - 0s - loss: 0.0587 - accuracy: 0.9755 - val_loss: 0.0729 - val_accuracy: 0.9669\n",
      "Epoch 9/10\n",
      "23/23 - 0s - loss: 0.0500 - accuracy: 0.9793 - val_loss: 0.0798 - val_accuracy: 0.9624\n",
      "Epoch 10/10\n",
      "23/23 - 0s - loss: 0.0454 - accuracy: 0.9816 - val_loss: 0.0921 - val_accuracy: 0.9699\n"
     ]
    },
    {
     "data": {
      "text/plain": [
       "<tensorflow.python.keras.callbacks.History at 0x1f5a1dd2668>"
      ]
     },
     "execution_count": 81,
     "metadata": {},
     "output_type": "execute_result"
    }
   ],
   "source": [
    "from tensorflow.keras.optimizers import Adam\n",
    "import tensorflow as tf\n",
    "\n",
    "model.compile(optimizer='adam',loss='binary_crossentropy',metrics=['accuracy'])\n",
    "model.fit(xtrain, ytrain, batch_size=120, epochs=10, validation_data=(xtest,ytest),verbose=2)"
   ]
  },
  {
   "cell_type": "markdown",
   "metadata": {},
   "source": [
    "# Predictions"
   ]
  },
  {
   "cell_type": "code",
   "execution_count": 85,
   "metadata": {},
   "outputs": [
    {
     "name": "stdout",
     "output_type": "stream",
     "text": [
      "number of misclassifications :  20\n"
     ]
    }
   ],
   "source": [
    "preds = np.argmax(model.predict(xtest),1)\n",
    "real = np.argmax(ytest, 1)\n",
    "\n",
    "print('number of misclassifications : ',(preds!=real).sum())"
   ]
  },
  {
   "cell_type": "code",
   "execution_count": 83,
   "metadata": {},
   "outputs": [
    {
     "data": {
      "text/plain": [
       "<AxesSubplot:>"
      ]
     },
     "execution_count": 83,
     "metadata": {},
     "output_type": "execute_result"
    },
    {
     "data": {
      "image/png": "[encoded data removed]",
      "text/plain": [
       "<Figure size 432x288 with 2 Axes>"
      ]
     },
     "metadata": {
      "needs_background": "light"
     },
     "output_type": "display_data"
    }
   ],
   "source": [
    "from sklearn.metrics import confusion_matrix\n",
    "from seaborn import heatmap\n",
    "\n",
    "preds = np.argmax(model.predict(xtest),1)\n",
    "cm = confusion_matrix(real, preds)\n",
    "heatmap(cm, annot=True, fmt='d')\n",
    "\n"
   ]
  },
  {
   "cell_type": "code",
   "execution_count": 86,
   "metadata": {},
   "outputs": [],
   "source": [
    "## Saving the model\n",
    "\n",
    "model.save('D:\\Project_Ideas\\TeachableMachine_Local\\handPose\\hand\\Kpts_model.h5')"
   ]
  },
  {
   "cell_type": "markdown",
   "metadata": {},
   "source": [
    "# Optimal Normalization Strategy for pose data(keypoints)"
   ]
  },
  {
   "cell_type": "code",
   "execution_count": null,
   "metadata": {},
   "outputs": [],
   "source": [
    "# for i in range(len(dataset.shape[0])):\n",
    "#     if((i+1)%22==0):\n",
    "#         r = (i+1)\n",
    "#         rect_h = ((dataset.iloc[:,1].iloc[0:(i+1)]).max())-((dataset.iloc[:,1].iloc[0:(i+1)]).min())\n",
    "#         rect_w = (dataset.iloc[:,0].max())-(dataset.iloc[:,0].min())\n",
    "#         features.iloc[:,0]=features.iloc[:,0]/rect_w\n",
    "#         features.iloc[:,1]=features.iloc[:,1]/rect_h\n",
    "        "
   ]
  },
  {
   "cell_type": "code",
   "execution_count": null,
   "metadata": {},
   "outputs": [],
   "source": [
    "# rect_h = (data.iloc[:,1].max())-(data.iloc[:,1].min())\n",
    "# rect_w = (data.iloc[:,0].max())-(data.iloc[:,0].min())\n",
    "\n",
    "# # #(xmin-xmin)\n",
    "# # features.iloc[:,0][features.iloc[:,0].min()] = (features.iloc[:,0].min())-(features.iloc[:,0].min())\n",
    "# # #(ymin-ymin)\n",
    "# # features.iloc[:,1][features.iloc[:,1].min()] = (features.iloc[:,1].min())-(features.iloc[:,1].min())\n",
    "\n",
    "# # features.iloc[:,0][features.iloc[:,0].max()] = features.iloc[:,0].max()-rect_w\n",
    "# # features.iloc[:,1][features.iloc[:,1].max()] = features.iloc[:,1].max()-rect_h\n",
    "\n",
    "\n",
    "# features.iloc[:,0]=features.iloc[:,0]/rect_w\n",
    "# features.iloc[:,1]=features.iloc[:,1]/rect_h"
   ]
  },
  {
   "cell_type": "markdown",
   "metadata": {},
   "source": [
    "# ML Algos (Optional)\n"
   ]
  },
  {
   "cell_type": "code",
   "execution_count": null,
   "metadata": {},
   "outputs": [],
   "source": [
    "# from sklearn.model_selection import train_test_split\n",
    "\n",
    "# xtrain, xtest, ytrain, ytest = train_test_split(features_norm, target, test_size=0.3, random_state=42)"
   ]
  },
  {
   "cell_type": "code",
   "execution_count": null,
   "metadata": {},
   "outputs": [],
   "source": [
    "# from sklearn.svm import SVC\n",
    "# model = SVC() #Checkout the parameters in the docs\n",
    "# model.fit(xtrain,ytrain)\n",
    "\n",
    "# model.score(xtest,ytest)\n"
   ]
  },
  {
   "cell_type": "code",
   "execution_count": null,
   "metadata": {},
   "outputs": [],
   "source": [
    "# from sklearn.linear_model import LogisticRegression\n",
    "# model = LogisticRegression() #Checkout the parameters in the docs\n",
    "# model.fit(xtrain,ytrain)\n",
    "\n",
    "# model.score(xtest,ytest)"
   ]
  },
  {
   "cell_type": "code",
   "execution_count": null,
   "metadata": {},
   "outputs": [],
   "source": [
    "# from sklearn import tree\n",
    "\n",
    "# model = tree.DecisionTreeClassifier()\n",
    "# model.fit(xtrain,ytrain)\n",
    "\n",
    "# model.score(xtest,ytest)"
   ]
  },
  {
   "cell_type": "code",
   "execution_count": null,
   "metadata": {},
   "outputs": [],
   "source": [
    "# from sklearn.ensemble import RandomForestClassifier\n",
    "\n",
    "# model = RandomForestClassifier()\n",
    "# model.fit(xtrain,ytrain)\n",
    "\n",
    "# model.score(xtest,ytest)"
   ]
  },
  {
   "cell_type": "code",
   "execution_count": null,
   "metadata": {},
   "outputs": [],
   "source": []
  }
 ],
 "metadata": {
  "kernelspec": {
   "display_name": "Python 3",
   "language": "python",
   "name": "python3"
  },
  "language_info": {
   "codemirror_mode": {
    "name": "ipython",
    "version": 3
   },
   "file_extension": ".py",
   "mimetype": "text/x-python",
   "name": "python",
   "nbconvert_exporter": "python",
   "pygments_lexer": "ipython3",
   "version": "3.6.8"
  }
 },
 "nbformat": 4,
 "nbformat_minor": 4
}
